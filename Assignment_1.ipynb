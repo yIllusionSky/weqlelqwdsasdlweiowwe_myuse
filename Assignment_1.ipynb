{
 "cells": [
  {
   "cell_type": "markdown",
   "id": "4f13ba63",
   "metadata": {},
   "source": [
    "<h1 style=\"text-align:center\"> Assignmnent 1 [Your Name] [QMUL Student ID]</h1>"
   ]
  },
  {
   "cell_type": "markdown",
   "id": "6f257621",
   "metadata": {},
   "source": [
    "In this assignment, you have multiple tasks to finish. Finishing a task require writing a code and importantly, explaining your approach to write the code. The tasks for this assignment are designed to use our collected dataset, that we call as **'Happiness Dataset'**, which is provided to you alongside of this Jupyter-notebook.\n",
    "\n",
    "<br>\n",
    "\n",
    "<div style=\"padding: 10px; border: 2px solid green;\">\n",
    "This Assignment will be evaluated based on:\n",
    "\n",
    "* (1) Correctness of code for the given task (If your code is performing task correctly)\n",
    "* (2) Explanation of the logical flow of your code and the results you produced for the task.\n",
    "\n",
    "</div>\n",
    "\n",
    "For each task, you will see a section named as 'YOUR EXPLANATION', that is where you have to write the explanation of the respective code and the results.\n",
    "\n",
    "You have one week to finish and upload the solution.\n",
    "\n",
    "Best of Luck!"
   ]
  },
  {
   "cell_type": "markdown",
   "id": "479a4bb2",
   "metadata": {},
   "source": [
    "<div style=\"padding: 10px; border: 2px solid black;\">\n",
    "Update your name and QMUL student ID on the top heading, by double clicking it.\n",
    "</div>"
   ]
  },
  {
   "cell_type": "markdown",
   "id": "79c74f09",
   "metadata": {
    "toc": true
   },
   "source": [
    "<h1>Table of Contents<span class=\"tocSkip\"></span></h1>\n",
    "<div class=\"toc\"><ul class=\"toc-item\"><li><span><a href=\"#Read-the-Data\" data-toc-modified-id=\"Read-the-Data-1\"><span class=\"toc-item-num\">1&nbsp;&nbsp;</span>Read the Data</a></span></li><li><span><a href=\"#Describe-the-collected-Dataset--[2-Marks]\" data-toc-modified-id=\"Describe-the-collected-Dataset--[2-Marks]-2\"><span class=\"toc-item-num\">2&nbsp;&nbsp;</span>Describe the collected Dataset  [2 Marks]</a></span><ul class=\"toc-item\"><li><span><a href=\"#YOUR-EXPLANATION\" data-toc-modified-id=\"YOUR-EXPLANATION-2.1\"><span class=\"toc-item-num\">2.1&nbsp;&nbsp;</span>YOUR EXPLANATION</a></span></li></ul></li><li><span><a href=\"#Data-Cleaning-[2-Marks]\" data-toc-modified-id=\"Data-Cleaning-[2-Marks]-3\"><span class=\"toc-item-num\">3&nbsp;&nbsp;</span>Data Cleaning [2 Marks]</a></span><ul class=\"toc-item\"><li><span><a href=\"#Your-Solution\" data-toc-modified-id=\"Your-Solution-3.1\"><span class=\"toc-item-num\">3.1&nbsp;&nbsp;</span>Your Solution</a></span></li><li><span><a href=\"#YOUR-EXPLANATION\" data-toc-modified-id=\"YOUR-EXPLANATION-3.2\"><span class=\"toc-item-num\">3.2&nbsp;&nbsp;</span>YOUR EXPLANATION</a></span></li></ul></li><li><span><a href=\"#Create-functions-[2-Marks]\" data-toc-modified-id=\"Create-functions-[2-Marks]-4\"><span class=\"toc-item-num\">4&nbsp;&nbsp;</span>Create functions [2 Marks]</a></span><ul class=\"toc-item\"><li><span><a href=\"#YOUR-EXPLANATION\" data-toc-modified-id=\"YOUR-EXPLANATION-4.1\"><span class=\"toc-item-num\">4.1&nbsp;&nbsp;</span>YOUR EXPLANATION</a></span></li></ul></li><li><span><a href=\"#Compute-and-Visualize-[8-Marks]\" data-toc-modified-id=\"Compute-and-Visualize-[8-Marks]-5\"><span class=\"toc-item-num\">5&nbsp;&nbsp;</span>Compute and Visualize [8 Marks]</a></span><ul class=\"toc-item\"><li><span><a href=\"#Average-and-Standard-Deviation-[2-Marks]\" data-toc-modified-id=\"Average-and-Standard-Deviation-[2-Marks]-5.1\"><span class=\"toc-item-num\">5.1&nbsp;&nbsp;</span>Average and Standard Deviation [2 Marks]</a></span><ul class=\"toc-item\"><li><span><a href=\"#Your-Solution\" data-toc-modified-id=\"Your-Solution-5.1.1\"><span class=\"toc-item-num\">5.1.1&nbsp;&nbsp;</span>Your Solution</a></span></li><li><span><a href=\"#YOUR-EXPLANATION\" data-toc-modified-id=\"YOUR-EXPLANATION-5.1.2\"><span class=\"toc-item-num\">5.1.2&nbsp;&nbsp;</span>YOUR EXPLANATION</a></span></li></ul></li><li><span><a href=\"#Eduction-Level\" data-toc-modified-id=\"Eduction-Level-5.2\"><span class=\"toc-item-num\">5.2&nbsp;&nbsp;</span>Eduction Level</a></span><ul class=\"toc-item\"><li><span><a href=\"#Your-Solution\" data-toc-modified-id=\"Your-Solution-5.2.1\"><span class=\"toc-item-num\">5.2.1&nbsp;&nbsp;</span>Your Solution</a></span></li><li><span><a href=\"#YOUR-EXPLANATION\" data-toc-modified-id=\"YOUR-EXPLANATION-5.2.2\"><span class=\"toc-item-num\">5.2.2&nbsp;&nbsp;</span>YOUR EXPLANATION</a></span></li></ul></li><li><span><a href=\"#Province:-Happiness-Index\" data-toc-modified-id=\"Province:-Happiness-Index-5.3\"><span class=\"toc-item-num\">5.3&nbsp;&nbsp;</span>Province: Happiness Index</a></span><ul class=\"toc-item\"><li><span><a href=\"#Your-Solution\" data-toc-modified-id=\"Your-Solution-5.3.1\"><span class=\"toc-item-num\">5.3.1&nbsp;&nbsp;</span>Your Solution</a></span></li><li><span><a href=\"#YOUR-EXPLANATION\" data-toc-modified-id=\"YOUR-EXPLANATION-5.3.2\"><span class=\"toc-item-num\">5.3.2&nbsp;&nbsp;</span>YOUR EXPLANATION</a></span></li></ul></li><li><span><a href=\"#Province:-Education-Level-(Open-ended)\" data-toc-modified-id=\"Province:-Education-Level-(Open-ended)-5.4\"><span class=\"toc-item-num\">5.4&nbsp;&nbsp;</span>Province: Education Level (Open-ended)</a></span><ul class=\"toc-item\"><li><span><a href=\"#Your-Solution\" data-toc-modified-id=\"Your-Solution-5.4.1\"><span class=\"toc-item-num\">5.4.1&nbsp;&nbsp;</span>Your Solution</a></span></li><li><span><a href=\"#YOUR-EXPLANATION\" data-toc-modified-id=\"YOUR-EXPLANATION-5.4.2\"><span class=\"toc-item-num\">5.4.2&nbsp;&nbsp;</span>YOUR EXPLANATION</a></span></li></ul></li></ul></li><li><span><a href=\"#Find-in-the-Data-[4-Marks]\" data-toc-modified-id=\"Find-in-the-Data-[4-Marks]-6\"><span class=\"toc-item-num\">6&nbsp;&nbsp;</span>Find in the Data [4 Marks]</a></span><ul class=\"toc-item\"><li><span><a href=\"#Your-Solution\" data-toc-modified-id=\"Your-Solution-6.1\"><span class=\"toc-item-num\">6.1&nbsp;&nbsp;</span>Your Solution</a></span></li><li><span><a href=\"#YOUR-EXPLANATION\" data-toc-modified-id=\"YOUR-EXPLANATION-6.2\"><span class=\"toc-item-num\">6.2&nbsp;&nbsp;</span>YOUR EXPLANATION</a></span></li></ul></li><li><span><a href=\"#Submission-Instructions\" data-toc-modified-id=\"Submission-Instructions-7\"><span class=\"toc-item-num\">7&nbsp;&nbsp;</span>Submission Instructions</a></span></li></ul></div>"
   ]
  },
  {
   "cell_type": "code",
   "execution_count": null,
   "id": "7a0124e2",
   "metadata": {},
   "outputs": [],
   "source": [
    "import numpy as np\n",
    "import matplotlib.pyplot as plt\n",
    "import pandas as pd"
   ]
  },
  {
   "cell_type": "markdown",
   "id": "526061e5",
   "metadata": {
    "heading_collapsed": true
   },
   "source": [
    "## Read the Data"
   ]
  },
  {
   "cell_type": "markdown",
   "id": "45940e00",
   "metadata": {
    "hidden": true
   },
   "source": [
    "By now you are very familiar with reading a CSV file. Our Happiness Data is given in CSV file named 'Happiness_Data.csv', use pandas to read CSV file and save in Variable name 'data'. Once you read the file, display it using 'data.head()', which will display first five rows of the Table. You can do all the operations on data using pandas, however here you will be using numpy array operations to do that. \n",
    "\n",
    "After reading CSV with pandas, use following code to convert pandas dataframe to numpy file.\n",
    "\n",
    "```python\n",
    "\n",
    "\n",
    "data_np = np.array(data)\n",
    "\n",
    "\n",
    "```\n",
    "\n",
    "This will give you numpy array of table with same number of columns as in CSV except, here you will not have Heading Names.\n"
   ]
  },
  {
   "cell_type": "code",
   "execution_count": null,
   "id": "0855650b",
   "metadata": {
    "hidden": true
   },
   "outputs": [],
   "source": [
    "# Keep the Datafile in your current folder\n",
    "\n",
    "data = pd.read_csv('Happiness_Data.csv')\n",
    "data.head()"
   ]
  },
  {
   "cell_type": "code",
   "execution_count": null,
   "id": "9a5a7543",
   "metadata": {
    "hidden": true
   },
   "outputs": [],
   "source": [
    "number_of_students = len(set(data.StudentCode))\n",
    "number_of_students"
   ]
  },
  {
   "cell_type": "markdown",
   "id": "cb6b5d9c",
   "metadata": {
    "hidden": true
   },
   "source": [
    "<font size=4>**Remove your entries from data**</font>\n",
    "\n",
    "Once you read the data file, remove the entries that you submitted to data under task 1. Check the CSV file, entries corresponding to each student are assigned a random **StudentCode**, such as S1, S2,. ..S63. If you have submitted the entries, by looking at the CSV file, you can identify the StudentCode assigned to your entries. Once you Identified your StudentCode, write it as MyStudentCode and remove your entries from dataset.\n",
    "\n",
    "\n",
    "For example, if my StudentCode is S100, I will write following three lines to extract my entries and to remove them from data.\n",
    "\n",
    "```python\n",
    "\n",
    "MyStudentCode = 'S100'\n",
    "\n",
    "my_entries_data = data[data.StudentCode==MyStudentCode]\n",
    "\n",
    "data = data[data.StudentCode!=MyStudentCode]\n",
    "\n",
    "```\n",
    "\n",
    "In variable `my_entries_data` you will have your entries and variable `data` will have the rest of the entries.\n",
    "\n",
    "\n",
    "**If you did not submit the data or you cannot identify your StudentCode**, email to `j.men@qmul.ac.uk` give your name and QMUL StudentID, and she will reply to you with your assigned StudentCode."
   ]
  },
  {
   "cell_type": "code",
   "execution_count": null,
   "id": "c91480cf",
   "metadata": {
    "hidden": true
   },
   "outputs": [],
   "source": [
    "MyStudentCode = 'S10'\n",
    "\n",
    "my_entries_data = data[data.StudentCode==MyStudentCode]\n",
    "\n",
    "data = data[data.StudentCode!=MyStudentCode]\n",
    "\n",
    "data.shape, my_entries_data.shape"
   ]
  },
  {
   "cell_type": "code",
   "execution_count": null,
   "id": "cb23cb8a",
   "metadata": {
    "hidden": true
   },
   "outputs": [],
   "source": [
    "# Test wether data entries related to your student code is removed or not\n",
    "\n",
    "assert len(set(data.StudentCode))<number_of_students"
   ]
  },
  {
   "cell_type": "markdown",
   "id": "9efef4de",
   "metadata": {
    "hidden": true
   },
   "source": [
    " <div style=\"padding: 10px; border: 2px solid lightblue;\">\n",
    " \n",
    " <center>\n",
    "     <span style=\"align:center; color:red\"> <font size=\"5\">Do NOT use pandas from this section onward.</font></span>\n",
    "     <br>\n",
    "     <span style=\"align:center; color:red\"> <font size=\"5\">Everything must be done using NumPy.</font></span>\n",
    " </center>\n",
    " </div>"
   ]
  },
  {
   "cell_type": "code",
   "execution_count": null,
   "id": "409f822a",
   "metadata": {
    "hidden": true
   },
   "outputs": [],
   "source": [
    "data_np = np.array(data)\n",
    "data_np"
   ]
  },
  {
   "cell_type": "code",
   "execution_count": null,
   "id": "4b6034f1",
   "metadata": {
    "hidden": true
   },
   "outputs": [],
   "source": [
    "assert isinstance(data_np, np.ndarray)"
   ]
  },
  {
   "cell_type": "markdown",
   "id": "ee0b8354",
   "metadata": {
    "heading_collapsed": true
   },
   "source": [
    "## Describe the collected Dataset  [2 Marks]"
   ]
  },
  {
   "cell_type": "markdown",
   "id": "145390de",
   "metadata": {
    "hidden": true
   },
   "source": [
    "The first and foremost job in a Data Science Project is to understand the Data that you are dealing with. Since you all have been a part of the Data Collection task and you already know what this data is and how it was collected. You can answer the following question easily.\n",
    "\n",
    "**Write a paragraph to describe the collected dataset. Explain the objective of collected data and its attributes. Add any interesting aspect of data in your own worlds.**"
   ]
  },
  {
   "cell_type": "markdown",
   "id": "033fd425",
   "metadata": {
    "hidden": true
   },
   "source": [
    "### YOUR EXPLANATION"
   ]
  },
  {
   "cell_type": "raw",
   "id": "744d1aca",
   "metadata": {
    "hidden": true
   },
   "source": [
    "Your Answer:\n",
    "\n",
    "\n",
    "\n",
    "\n",
    "\n",
    "\n",
    "\n"
   ]
  },
  {
   "cell_type": "markdown",
   "id": "fcef6d2c",
   "metadata": {
    "heading_collapsed": true
   },
   "source": [
    "## Data Cleaning [2 Marks]"
   ]
  },
  {
   "cell_type": "markdown",
   "id": "d2693808",
   "metadata": {
    "hidden": true
   },
   "source": [
    "After understanding the Data, Data Cleaning is the next step. Data Cleaning means checking all the values in the data, if they are in the expected format and value ranges. If they are not as expected, there are steps to fix them (usually correcting the format and scaling or changing the values). \n",
    "\n",
    "Data Cleaning also includes to check if there are missing values and if any unusual values are present in the Data. In those cases, appropriate actions are taken to handle them. For this assignment, the appropriate actions are well described for you."
   ]
  },
  {
   "cell_type": "markdown",
   "id": "3505ac19",
   "metadata": {
    "hidden": true
   },
   "source": [
    "<font size=4>**All the following operations to be done using Python.**</font>\n",
    "\n",
    "Your data cleaning steps will be assessed based on how well you have followed the steps."
   ]
  },
  {
   "cell_type": "markdown",
   "id": "c1a93ac6",
   "metadata": {
    "hidden": true
   },
   "source": [
    "**PersonID**\n",
    "* The correct values for PersonID column (column 2) are (P1, P2, P3, P4, and P5), all in same format, uppercase P followed by number 1 to 5.\n",
    "\n",
    "\n",
    "**Age, Height, Weight, and NumberOfLanguages**\n",
    "\n",
    "* Check if Age column has age values as integer or not, if not, covert them to integers. Also check if there are any unusual age values in the column. If you find any unusual values, replace them with None or (np.nan).\n",
    "\n",
    "* Similarly check for Height, Weight, and NumberOfLanguages columns. Check if Height, Weight are floating values, and NumberOfLanguages are integer. Check for any unusual values and replace them with None.\n",
    "\n",
    "\n",
    "**LikeVolleyball & LikeTableTennis**\n",
    "* In the CSV file, you can notice that True, False and None for *LikeVolleyball & LikeTableTennis* columns are saved as strings i.e., 'TRUE', 'FALSE', and 'None'. Convert them to Boolean (True, False) and None of Python Data types.\n",
    "* Find in the respective column, where values are equal to 'TRUE' and replace them with True.\n",
    "* Use numpy comparison operators such as D['A']=='Hello'"
   ]
  },
  {
   "cell_type": "markdown",
   "id": "2fd0ae62",
   "metadata": {
    "hidden": true
   },
   "source": [
    "### Your Solution"
   ]
  },
  {
   "cell_type": "code",
   "execution_count": null,
   "id": "e91eadd8",
   "metadata": {
    "hidden": true
   },
   "outputs": [],
   "source": []
  },
  {
   "cell_type": "code",
   "execution_count": null,
   "id": "566d791e",
   "metadata": {
    "hidden": true
   },
   "outputs": [],
   "source": []
  },
  {
   "cell_type": "code",
   "execution_count": null,
   "id": "dc2b1bac",
   "metadata": {
    "hidden": true
   },
   "outputs": [],
   "source": []
  },
  {
   "cell_type": "code",
   "execution_count": null,
   "id": "bb15cf97",
   "metadata": {
    "hidden": true
   },
   "outputs": [],
   "source": []
  },
  {
   "cell_type": "code",
   "execution_count": null,
   "id": "7a50ea8c",
   "metadata": {
    "hidden": true
   },
   "outputs": [],
   "source": []
  },
  {
   "cell_type": "markdown",
   "id": "ae0f2b09",
   "metadata": {
    "hidden": true
   },
   "source": [
    "### YOUR EXPLANATION"
   ]
  },
  {
   "cell_type": "markdown",
   "id": "ee0c1766",
   "metadata": {
    "hidden": true
   },
   "source": [
    "**Explain all the issues you observed in the data, which lead you to clean it.**"
   ]
  },
  {
   "cell_type": "raw",
   "id": "4cf7ad46",
   "metadata": {
    "hidden": true
   },
   "source": [
    "Your Answer:\n",
    "\n",
    "\n",
    "\n",
    "\n",
    "\n",
    "\n",
    "\n",
    "\n",
    "\n"
   ]
  },
  {
   "cell_type": "markdown",
   "id": "bb35bb8f",
   "metadata": {
    "heading_collapsed": true
   },
   "source": [
    "## Create functions [2 Marks]"
   ]
  },
  {
   "cell_type": "markdown",
   "id": "afc2c150",
   "metadata": {
    "hidden": true
   },
   "source": [
    "Complete the code for following three functions, as described.\n",
    "\n",
    "* ```sum_with_none```: function that takes input x as a list or numpy array and returns sum of all the numbers in it as sum_x, excluding None values or any other kinds of None (np.nan). It also returns number of values that are added n_x.\n",
    "  * For example, if x = [1,2,3, None, 3, np.nan] is passed then function should return sum_x=9, and n_x =4.\n",
    "\n",
    "\n",
    "* ```mean_with_none```: function that takes input x as a list or numpy array and returns mean of all the numbers in it, excluding None values or any other kinds of None (np.nan).  Try re-using 'sum_with_none' function.\n",
    "\n",
    "\n",
    "* ```std_with_none```: function that takes input as a list or numpy array and returns standard deviation of all the numbers in it, excluding None values or any other kinds. Try re-using 'sum_with_none' and/or  'mean_with_none' functions.\n",
    "\n",
    "\n",
    "For each function, DO add a doctring, explaining your code logic, input and output. This doctring is called in 'YOUR EXPLAINATION' section to check how well your function is documented."
   ]
  },
  {
   "cell_type": "code",
   "execution_count": null,
   "id": "affe9479",
   "metadata": {
    "hidden": true
   },
   "outputs": [],
   "source": [
    "def sum_with_none(x):\n",
    "    '''\n",
    "    Write a docstring\n",
    "     \n",
    "    \n",
    "    '''\n",
    "    sum_x = None\n",
    "    n_x   = None\n",
    "    \n",
    "    pass\n",
    "    # Complete the code\n",
    "    \n",
    "    \n",
    "    return sum_x, n_x\n",
    "\n",
    "\n",
    "def mean_with_none(x):\n",
    "    '''\n",
    "    Write a docstring\n",
    "     \n",
    "    \n",
    "    '''\n",
    "    mean_x = None\n",
    "    pass\n",
    "    # Complete the code\n",
    "\n",
    "\n",
    "def std_with_none(x):\n",
    "    '''\n",
    "    Write a docstring\n",
    "    \n",
    "    '''\n",
    "    std_x = None\n",
    "    pass\n",
    "    # Complete the code\n",
    "    \n",
    "    \n",
    "    \n",
    "    return std_x"
   ]
  },
  {
   "cell_type": "markdown",
   "id": "d5ebf4ed",
   "metadata": {
    "hidden": true
   },
   "source": [
    "<font size=4> **Test your functions for following inputs** <font>"
   ]
  },
  {
   "cell_type": "code",
   "execution_count": null,
   "id": "139fd5da",
   "metadata": {
    "hidden": true
   },
   "outputs": [],
   "source": [
    "x1 = [1,3,5,None,4, np.nan]"
   ]
  },
  {
   "cell_type": "raw",
   "id": "b03bb1f0",
   "metadata": {
    "hidden": true
   },
   "source": [
    "# for x1 following should be output\n",
    "\n",
    "sum_x1  = 13\n",
    "n_x1    = 4 \n",
    "mean_x1 = 3.25\n",
    "sd_x1   = 1.479019945774904"
   ]
  },
  {
   "cell_type": "code",
   "execution_count": null,
   "id": "c4839413",
   "metadata": {
    "hidden": true
   },
   "outputs": [],
   "source": [
    "x2 = np.array([20,10,None,10,np.nan, 30])"
   ]
  },
  {
   "cell_type": "raw",
   "id": "df1bf8b3",
   "metadata": {
    "hidden": true
   },
   "source": [
    "# for x2 following should be output\n",
    "\n",
    "sum_x2  = 70\n",
    "n_x2    = 4 \n",
    "mean_x2 = 17.5\n",
    "sd_x2   = 8.2915619758885"
   ]
  },
  {
   "cell_type": "code",
   "execution_count": null,
   "id": "d87f2c07",
   "metadata": {
    "hidden": true
   },
   "outputs": [],
   "source": []
  },
  {
   "cell_type": "code",
   "execution_count": null,
   "id": "c8404232",
   "metadata": {
    "hidden": true
   },
   "outputs": [],
   "source": []
  },
  {
   "cell_type": "code",
   "execution_count": null,
   "id": "0a821538",
   "metadata": {
    "hidden": true
   },
   "outputs": [],
   "source": []
  },
  {
   "cell_type": "markdown",
   "id": "430cecbb",
   "metadata": {
    "hidden": true
   },
   "source": [
    "### YOUR EXPLANATION"
   ]
  },
  {
   "cell_type": "markdown",
   "id": "64363b27",
   "metadata": {
    "hidden": true
   },
   "source": [
    "Your explanation for this part will be evaluated by running following three lines of the code to check your doctring. Add your explanation to functions as docstring."
   ]
  },
  {
   "cell_type": "code",
   "execution_count": null,
   "id": "40e2aa1a",
   "metadata": {
    "hidden": true
   },
   "outputs": [],
   "source": [
    "help(sum_with_none)"
   ]
  },
  {
   "cell_type": "code",
   "execution_count": null,
   "id": "2d278ac1",
   "metadata": {
    "hidden": true
   },
   "outputs": [],
   "source": [
    "help(mean_with_none)"
   ]
  },
  {
   "cell_type": "code",
   "execution_count": null,
   "id": "93a8093c",
   "metadata": {
    "hidden": true
   },
   "outputs": [],
   "source": [
    "help(std_with_none)"
   ]
  },
  {
   "cell_type": "markdown",
   "id": "cd210e51",
   "metadata": {
    "heading_collapsed": true
   },
   "source": [
    "## Compute and Visualize [8 Marks]"
   ]
  },
  {
   "cell_type": "markdown",
   "id": "65dfb0f6",
   "metadata": {
    "hidden": true
   },
   "source": [
    "### Average and Standard Deviation [2 Marks]\n",
    "\n",
    "* Compute the Average (Mean) and Standard Deviation of (1) Age (2) Height (3) Weight (4) Number of Languages, and (5) Happiness Level. Use your functions (mean_with_none, std_with_none). Print them."
   ]
  },
  {
   "cell_type": "markdown",
   "id": "8e149d05",
   "metadata": {
    "hidden": true
   },
   "source": [
    "#### Your Solution"
   ]
  },
  {
   "cell_type": "code",
   "execution_count": null,
   "id": "7bb52642",
   "metadata": {
    "hidden": true
   },
   "outputs": [],
   "source": []
  },
  {
   "cell_type": "code",
   "execution_count": null,
   "id": "2b0e82ef",
   "metadata": {
    "hidden": true
   },
   "outputs": [],
   "source": []
  },
  {
   "cell_type": "markdown",
   "id": "d5349d03",
   "metadata": {
    "hidden": true
   },
   "source": [
    "#### YOUR EXPLANATION"
   ]
  },
  {
   "cell_type": "raw",
   "id": "913e4223",
   "metadata": {
    "hidden": true
   },
   "source": [
    "Explain the results you got for Q5.1.\n",
    "\n",
    "\n",
    "Your Answer:\n",
    "\n",
    "\n",
    "\n",
    "\n",
    "\n",
    "\n",
    "\n",
    "\n",
    "\n"
   ]
  },
  {
   "cell_type": "markdown",
   "id": "5b6750ae",
   "metadata": {
    "hidden": true
   },
   "source": [
    "### Eduction Level\n",
    "\n",
    "* Compute the number of people for different education level and plot them as pie-chart. Highlight the piece of pie in pie-chart with 'explode' option for Post Graduate Category."
   ]
  },
  {
   "cell_type": "markdown",
   "id": "5a360bc9",
   "metadata": {
    "hidden": true
   },
   "source": [
    "#### Your Solution"
   ]
  },
  {
   "cell_type": "code",
   "execution_count": null,
   "id": "f2ef61f4",
   "metadata": {
    "hidden": true
   },
   "outputs": [],
   "source": []
  },
  {
   "cell_type": "code",
   "execution_count": null,
   "id": "664e27aa",
   "metadata": {
    "hidden": true
   },
   "outputs": [],
   "source": []
  },
  {
   "cell_type": "code",
   "execution_count": null,
   "id": "cf78f028",
   "metadata": {
    "hidden": true
   },
   "outputs": [],
   "source": []
  },
  {
   "cell_type": "markdown",
   "id": "10d3f547",
   "metadata": {
    "hidden": true
   },
   "source": [
    "#### YOUR EXPLANATION"
   ]
  },
  {
   "cell_type": "raw",
   "id": "d10b7570",
   "metadata": {
    "hidden": true
   },
   "source": [
    "Explain how you computed the people for different education level and what are your results.\n",
    "\n",
    "\n",
    "Your Answer:\n",
    "\n",
    "\n",
    "\n",
    "\n",
    "\n",
    "\n",
    "\n",
    "\n",
    "\n"
   ]
  },
  {
   "cell_type": "markdown",
   "id": "4c13b035",
   "metadata": {
    "hidden": true
   },
   "source": [
    "### Province: Happiness Index\n",
    "\n",
    "* Q5.3A. Compute the number of people in each province from our dataset and plot it as bar-graph. use 'Province' Column and label the figure properly.\n",
    "\n",
    "* Q5.3B. Compute the happiness-index (Average Happiness Score) for each province and plot top five province with highest happiness-index and bottom five with lowest happiness-index. Exclude None or nan category of province.\n",
    "     * To compute happiness-index of province from our dataset, extract all the people from given province and average their happiness level.\n",
    "     * Properly label the figure."
   ]
  },
  {
   "cell_type": "markdown",
   "id": "b230e10d",
   "metadata": {
    "hidden": true
   },
   "source": [
    "#### Your Solution"
   ]
  },
  {
   "cell_type": "code",
   "execution_count": null,
   "id": "5316101f",
   "metadata": {
    "hidden": true
   },
   "outputs": [],
   "source": []
  },
  {
   "cell_type": "code",
   "execution_count": null,
   "id": "423d642c",
   "metadata": {
    "hidden": true
   },
   "outputs": [],
   "source": []
  },
  {
   "cell_type": "code",
   "execution_count": null,
   "id": "6926f1e7",
   "metadata": {
    "hidden": true
   },
   "outputs": [],
   "source": []
  },
  {
   "cell_type": "markdown",
   "id": "5fb5dbf9",
   "metadata": {
    "hidden": true
   },
   "source": [
    "#### YOUR EXPLANATION"
   ]
  },
  {
   "cell_type": "raw",
   "id": "4ecbc30e",
   "metadata": {
    "hidden": true
   },
   "source": [
    "Q5.3A: Explain how you computed the people for different province and explain the graph you plotted.\n",
    "\n",
    "\n",
    "Your Answer:\n",
    "\n",
    "\n",
    "\n",
    "\n",
    "\n",
    "\n",
    "\n",
    "\n",
    "\n",
    "Q5.3B: Explain how you computed the happiness-index of each province and explain the results, about top happiest provinces and top saddest provinces.\n",
    "\n",
    "\n",
    "Your Answer:\n",
    "\n",
    "\n",
    "\n",
    "\n",
    "\n",
    "\n"
   ]
  },
  {
   "cell_type": "markdown",
   "id": "a6418f4f",
   "metadata": {
    "hidden": true
   },
   "source": [
    "###  Province: Education Level (Open-ended)\n",
    "\n",
    "*  Find the five top provinces with highest education level and plot them as bar-graph.\n",
    "\n",
    "This is an open-ended question, as the way to quantify the education level of a province from given dataset is completely up to you. You could assign each education-level a number and then compute average for each province or find the percentage of highest education level in each province and sort them in order or any other way to quantify. "
   ]
  },
  {
   "cell_type": "markdown",
   "id": "e9a2bb51",
   "metadata": {
    "hidden": true
   },
   "source": [
    "#### Your Solution"
   ]
  },
  {
   "cell_type": "code",
   "execution_count": null,
   "id": "61128f1b",
   "metadata": {
    "hidden": true
   },
   "outputs": [],
   "source": []
  },
  {
   "cell_type": "code",
   "execution_count": null,
   "id": "e79be526",
   "metadata": {
    "hidden": true
   },
   "outputs": [],
   "source": []
  },
  {
   "cell_type": "code",
   "execution_count": null,
   "id": "be3e31ff",
   "metadata": {
    "hidden": true
   },
   "outputs": [],
   "source": []
  },
  {
   "cell_type": "markdown",
   "id": "26b35578",
   "metadata": {
    "hidden": true
   },
   "source": [
    "#### YOUR EXPLANATION"
   ]
  },
  {
   "cell_type": "raw",
   "id": "7b43eac9",
   "metadata": {
    "hidden": true
   },
   "source": [
    "Q5.4A: Explain how chose the way to quantify the education level of a province.\n",
    "\n",
    "\n",
    "Your Answer:\n",
    "\n",
    "\n",
    "\n",
    "\n",
    "\n",
    "\n",
    "\n"
   ]
  },
  {
   "cell_type": "raw",
   "id": "f32a2e4f",
   "metadata": {
    "hidden": true
   },
   "source": [
    "Q5.4B: Explain results you got.\n",
    "\n",
    "\n",
    "Your Answer:\n",
    "\n",
    "\n",
    "\n",
    "\n",
    "\n",
    "\n"
   ]
  },
  {
   "cell_type": "code",
   "execution_count": null,
   "id": "4cb974ac",
   "metadata": {
    "hidden": true
   },
   "outputs": [],
   "source": []
  },
  {
   "cell_type": "markdown",
   "id": "2586b4d6",
   "metadata": {
    "heading_collapsed": true
   },
   "source": [
    "## Find in the Data [4 Marks]"
   ]
  },
  {
   "cell_type": "markdown",
   "id": "51d8f93d",
   "metadata": {
    "hidden": true
   },
   "source": [
    "<div style=\"padding: 10px; border: 2px solid lightblue;\">\n",
    "\n",
    "<font size=4>**Closeness of two data points:** </font>\n",
    "    \n",
    "Closeness of two data points can be quantified in many ways, one of them is the Euclidean Distance. We have seen Euclidean Distance in our previous worksheets, where we explored the idea of finding closest points in 2D space. Similar concept of closeness can be applied to any data-points. The only condition is to have numerical values for each attribute of a data point.\n",
    "</div>\n",
    "\n",
    "\n",
    "In our happiness-dataset, you can compute closeness of two data points P1 and P2, by excluding textual attributes (string type), such as address and favourite movie name and include all the numerical attributes such as Age, Height, Weight, Education Level (by converting them into numbers), Happiness Level, number of languages known, and likeness of Volleyball and Table Tennis. You can choose any other measure of closeness for our dataset and select a few attributes that make sense to the measure."
   ]
  },
  {
   "cell_type": "markdown",
   "id": "61243022",
   "metadata": {
    "hidden": true
   },
   "source": [
    "<font size=4> **Questions:** </font>"
   ]
  },
  {
   "cell_type": "markdown",
   "id": "f939b2d9",
   "metadata": {
    "hidden": true
   },
   "source": [
    "* **Q6A**: Define a function to compute closeness on two data points (two people) from our dataset. Explain it well, how did you define the closeness, what measure you used and what attributes you are going to use from our happiness dataset.\n",
    "\n",
    "<br>\n",
    "\n",
    "**Using your defined function solve following questions.** \n",
    "\n",
    "* **Q6B**: Find two closest people in the dataset and print their values to compare. Are these two entries from a same student? Are these two entries identical? Explain, how they are similar and what attributes are different between these two. \n",
    "\n",
    "<br>\n",
    "\n",
    "* **Q6C**: From dataset, find a person, who is closest to one of your entries (person from your list of entries). Explain, how they are similar and what attributes are different between these two.\n",
    "\n",
    "<br>\n",
    "\n",
    "\n",
    "* **Q6D**: Find the two students who have most similar entries, including yourself. Print those values and explain how they are similar. "
   ]
  },
  {
   "cell_type": "markdown",
   "id": "a1acadfa",
   "metadata": {
    "hidden": true
   },
   "source": [
    "### Your Solution "
   ]
  },
  {
   "cell_type": "code",
   "execution_count": null,
   "id": "25641996",
   "metadata": {
    "hidden": true
   },
   "outputs": [],
   "source": []
  },
  {
   "cell_type": "code",
   "execution_count": null,
   "id": "bb30cc43",
   "metadata": {
    "hidden": true
   },
   "outputs": [],
   "source": []
  },
  {
   "cell_type": "code",
   "execution_count": null,
   "id": "3c0ca8d7",
   "metadata": {
    "hidden": true
   },
   "outputs": [],
   "source": []
  },
  {
   "cell_type": "markdown",
   "id": "419ebcce",
   "metadata": {
    "hidden": true
   },
   "source": [
    "### YOUR EXPLANATION"
   ]
  },
  {
   "cell_type": "raw",
   "id": "115ce6f6",
   "metadata": {
    "hidden": true
   },
   "source": [
    "Q6A: Explaination of your function as asked in Q6A. Explain it well, how did you define the closeness, what measure you used and what attribuetes you are going to use from our happiness dataset.\n",
    "\n",
    "\n",
    "\n",
    "Your Answer:\n",
    "\n",
    "\n",
    "\n",
    "\n",
    "\n",
    "\n"
   ]
  },
  {
   "cell_type": "raw",
   "id": "ec252d57",
   "metadata": {
    "hidden": true
   },
   "source": [
    "Q6B: Explain the comparison of two closes people you found. Are these two entries from a same student? Are these two entries identical? Explain, how they are similar and what attributes are different between these two.\n",
    "\n",
    "\n",
    "Your Answer:\n",
    "\n",
    "\n",
    "\n",
    "\n",
    "\n",
    "\n",
    "\n",
    "\n",
    "\n",
    "\n",
    "\n",
    "\n"
   ]
  },
  {
   "cell_type": "markdown",
   "id": "fb233777",
   "metadata": {
    "hidden": true
   },
   "source": [
    "Q6C: Explain the attributes of the person, who is closest to one of your entries. Explain, how they are similar and what attributes are different between these two.\n",
    "\n",
    "\n",
    "\n",
    "Your Answer:\n",
    "\n",
    "\n",
    "\n",
    "\n",
    "\n",
    "\n"
   ]
  },
  {
   "cell_type": "raw",
   "id": "10c8a7a8",
   "metadata": {
    "hidden": true
   },
   "source": [
    "Q6D: Which two students you found have most similar entries? Explain how they are similar.\n",
    "\n",
    "\n",
    "\n",
    "Your Answer:\n",
    "\n",
    "\n",
    "\n",
    "\n",
    "\n",
    "\n"
   ]
  },
  {
   "cell_type": "markdown",
   "id": "044d0f5f",
   "metadata": {
    "heading_collapsed": true
   },
   "source": [
    "## Submission Instructions"
   ]
  },
  {
   "cell_type": "markdown",
   "id": "b2adb30b",
   "metadata": {
    "hidden": true
   },
   "source": [
    "<div style=\"padding: 10px; border: 2px solid blue;\">\n",
    "    \n",
    "Before uploading your submission make sure that:\n",
    "\n",
    "* Your name and QMUL ID are added at the top of the jupyter-notebook.\n",
    "* All the figures and code are saved.\n",
    "* Your solution Jupyter-notebook and data file ('Happiness_data.csv') are in one folder. Compress them to a Zip file. \n",
    "* Upload it using link provided on QMPlus\n",
    "* You are allowed to submit one Zip file only, which should contain your Jupyter-Notebook and data file. \n",
    "* **Deadline** to submit your assignment is **Friday (16/06/2023), mid-night, 00:00**.\n",
    "\n",
    "</div>"
   ]
  },
  {
   "cell_type": "code",
   "execution_count": null,
   "id": "f61ac4f9",
   "metadata": {
    "hidden": true
   },
   "outputs": [],
   "source": []
  }
 ],
 "metadata": {
  "kernelspec": {
   "display_name": "Python 3 (ipykernel)",
   "language": "python",
   "name": "python3"
  },
  "language_info": {
   "codemirror_mode": {
    "name": "ipython",
    "version": 3
   },
   "file_extension": ".py",
   "mimetype": "text/x-python",
   "name": "python",
   "nbconvert_exporter": "python",
   "pygments_lexer": "ipython3",
   "version": "3.10.11"
  },
  "toc": {
   "base_numbering": 1,
   "nav_menu": {},
   "number_sections": true,
   "sideBar": true,
   "skip_h1_title": true,
   "title_cell": "Table of Contents",
   "title_sidebar": "Contents",
   "toc_cell": true,
   "toc_position": {
    "height": "calc(100% - 180px)",
    "left": "10px",
    "top": "150px",
    "width": "287.195px"
   },
   "toc_section_display": true,
   "toc_window_display": false
  }
 },
 "nbformat": 4,
 "nbformat_minor": 5
}
